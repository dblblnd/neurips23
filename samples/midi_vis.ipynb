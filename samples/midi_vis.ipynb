{
 "cells": [
  {
   "cell_type": "code",
   "execution_count": 30,
   "id": "2d405b79",
   "metadata": {},
   "outputs": [
    {
     "data": {
      "application/vnd.jupyter.widget-view+json": {
       "model_id": "e076c4398ac94ef586471164480b6985",
       "version_major": 2,
       "version_minor": 0
      },
      "text/plain": [
       "  0%|          | 0/100 [00:00<?, ?it/s]"
      ]
     },
     "metadata": {},
     "output_type": "display_data"
    },
    {
     "name": "stdout",
     "output_type": "stream",
     "text": [
      "harmony/system0/10-clip-v0.mid (49, False) 28\n",
      "harmony/system2/10-clip-v0.mid (49, False) 5\n",
      "harmony/system0/11-clip-v0.mid (67, False) 7\n",
      "harmony/system0/12-clip-v0.mid (49, False) 2\n",
      "harmony/system0/15-clip-v0.mid (48, False) 1\n",
      "harmony/system0/16-clip-v0.mid (73, False) 3\n",
      "harmony/system0/17-clip-v0.mid (12, False) 2\n",
      "harmony/system0/19-clip-v0.mid (40, False) 1\n",
      "harmony/system0/20-clip-v0.mid (20, False) 1\n",
      "harmony/system0/24-clip-v0.mid (48, False) 2\n",
      "harmony/system0/28-clip-v0.mid (24, False) 1\n",
      "harmony/system0/29-clip-v0.mid (48, False) 1\n",
      "harmony/system0/3-clip-v0.mid (73, False) 1\n",
      "harmony/system0/31-clip-v0.mid (56, False) 2\n",
      "harmony/system0/32-clip-v0.mid (18, False) 1\n",
      "harmony/system0/4-clip-v0.mid (68, False) 2\n",
      "harmony/system0/40-clip-v0.mid (3, False) 4\n",
      "harmony/system0/44-clip-v0.mid (53, False) 5\n",
      "harmony/system0/46-clip-v0.mid (56, False) 3\n",
      "harmony/system0/47-clip-v0.mid (88, False) 5\n",
      "harmony/system0/48-clip-v0.mid (16, False) 26\n",
      "harmony/system0/5-clip-v0.mid (48, False) 1\n",
      "harmony/system0/7-clip-v0.mid (57, False) 1\n"
     ]
    },
    {
     "data": {
      "application/vnd.jupyter.widget-view+json": {
       "model_id": "f7a9bf8ce18f4010bb3c9ec1fdc03bbe",
       "version_major": 2,
       "version_minor": 0
      },
      "text/plain": [
       "  0%|          | 0/100 [00:00<?, ?it/s]"
      ]
     },
     "metadata": {},
     "output_type": "display_data"
    },
    {
     "name": "stdout",
     "output_type": "stream",
     "text": [
      "prompt/system0/24-clip.mid (0, True) 6\n",
      "prompt/system0/24-clip.mid (65, False) 14\n",
      "prompt/system0/24-clip.mid (25, False) 48\n"
     ]
    }
   ],
   "source": [
    "from collections import defaultdict\n",
    "\n",
    "import pretty_midi\n",
    "import mir_eval\n",
    "\n",
    "import numpy as np\n",
    "\n",
    "def midi_to_notes(midi, rate=10):\n",
    "    notes = defaultdict(list)\n",
    "    for i in midi.instruments:\n",
    "        i_tuple = (i.program, i.is_drum)\n",
    "        for n in i.notes:\n",
    "            notes[i_tuple].append((n.start, n.end, n.pitch, n.velocity))\n",
    "    return notes\n",
    "\n",
    "\n",
    "def notes_to_mir_eval(notes):\n",
    "    ref_intervals = np.array([(s, e) for s, e, _, _ in notes], dtype=np.float32)\n",
    "    ref_pitches = np.array([p for _, _, p, _ in notes], dtype=np.float32)\n",
    "    ref_freqs = np.power(2.0, (ref_pitches - 69) / 12) * 440.0\n",
    "    return ref_intervals, ref_freqs\n",
    "\n",
    "\n",
    "def write_vis_midi(\n",
    "    prmt_path,\n",
    "    cont_path=None,\n",
    "    show_drums=True,\n",
    "    separate_drums=True):\n",
    "    # Load and parse\n",
    "    prmt = midi_to_notes(pretty_midi.PrettyMIDI(prmt_path))\n",
    "    if cont_path is None:\n",
    "        cont = {}\n",
    "    else:\n",
    "        cont = midi_to_notes(pretty_midi.PrettyMIDI(cont_path))\n",
    "        for i in prmt.keys():\n",
    "            assert i in cont.keys()\n",
    "\n",
    "    # Create visualization\n",
    "    vis_midi = pretty_midi.PrettyMIDI()\n",
    "    prmt_instrument = pretty_midi.Instrument(0, is_drum=False, name='prompt')\n",
    "    cont_instrument = pretty_midi.Instrument(1, is_drum=False, name='continuation')\n",
    "    vis_midi.instruments = [prmt_instrument, cont_instrument]\n",
    "    if separate_drums:\n",
    "        prmt_drums_instrument = pretty_midi.Instrument(0, is_drum=True, name='prompt_drums')\n",
    "        cont_drums_instrument = pretty_midi.Instrument(1, is_drum=True, name='continuation_drums')\n",
    "        vis_midi.instruments.extend([prmt_drums_instrument, cont_drums_instrument])\n",
    "    \n",
    "    # Add prompt notes\n",
    "    for i, i_notes_prmt in prmt.items():\n",
    "        if i[1] and not show_drums:\n",
    "            continue\n",
    "        i_out = prmt_drums_instrument if separate_drums and i[1] else prmt_instrument\n",
    "        for n in i_notes_prmt:\n",
    "            i_out.notes.append(pretty_midi.Note(\n",
    "                start=n[0],\n",
    "                end=n[1],\n",
    "                pitch=n[2],\n",
    "                velocity=n[3],\n",
    "            ))\n",
    "    \n",
    "    # Add continuation notes\n",
    "    for i, i_notes_cont in cont.items():\n",
    "        if i[1] and not show_drums:\n",
    "            continue\n",
    "        i_out = cont_drums_instrument if separate_drums and i[1] else cont_instrument\n",
    "        \n",
    "        # Align continuation notes to prompt notes w/ tolerance\n",
    "        i_notes_prmt = prmt.get(i, [])\n",
    "        if len(i_notes_prmt) == 0:\n",
    "            alignment = []\n",
    "        else:\n",
    "            alignment = mir_eval.transcription.match_notes(\n",
    "                *notes_to_mir_eval(i_notes_prmt),\n",
    "                *notes_to_mir_eval(i_notes_cont),\n",
    "                onset_tolerance=0.05,\n",
    "                pitch_tolerance=1.0,\n",
    "                offset_ratio=None)\n",
    "        \n",
    "        # Warn about notes in prompt not being found in continuation\n",
    "        if len(alignment) != len(i_notes_prmt):\n",
    "            print(cont_path, i, len(i_notes_prmt) - len(alignment))\n",
    "        \n",
    "        # Output unmatched notes\n",
    "        aligned_notes = set(a[1] for a in alignment)\n",
    "        assert len(aligned_notes) == len(alignment)\n",
    "        for j, n in enumerate(i_notes_cont):\n",
    "            if j in aligned_notes:\n",
    "                continue\n",
    "            i_out.notes.append(pretty_midi.Note(\n",
    "                start=n[0],\n",
    "                end=n[1],\n",
    "                pitch=n[2],\n",
    "                velocity=n[3],\n",
    "            ))\n",
    "\n",
    "    # Write\n",
    "    if cont_path is None:\n",
    "        out_path = prmt_path.replace('.mid', '.vis.mid')\n",
    "    else:\n",
    "        out_path = cont_path.replace('.mid', '.vis.mid')\n",
    "    vis_midi.write(out_path)\n",
    "    \n",
    "\n",
    "\"\"\"\n",
    "write_vis_midi(\n",
    "    'harmony/0-conditional.mid',\n",
    "    None)\n",
    "\n",
    "write_vis_midi(\n",
    "    'harmony/0-conditional.mid',\n",
    "    'harmony/system0/0-clip-v0.mid')\n",
    "\"\"\"\n",
    "\n",
    "import pathlib\n",
    "import glob\n",
    "from tqdm.notebook import tqdm\n",
    "\n",
    "for study in ['harmony', 'prompt']:\n",
    "    for prmt_path in tqdm(sorted(glob.glob(f'{study}/*.mid'))):\n",
    "        if '.vis.mid' in prmt_path:\n",
    "            continue\n",
    "        write_vis_midi(prmt_path)\n",
    "        i = pathlib.Path(prmt_path).stem.split('-')[0]\n",
    "        for cont_path in sorted(glob.glob(f'{study}/system*/{i}-*.mid')):\n",
    "            if '.vis.mid' in cont_path:\n",
    "                continue\n",
    "            write_vis_midi(prmt_path, cont_path)"
   ]
  },
  {
   "cell_type": "code",
   "execution_count": null,
   "id": "188fb5f4",
   "metadata": {},
   "outputs": [],
   "source": [
    "ra"
   ]
  }
 ],
 "metadata": {
  "kernelspec": {
   "display_name": "Python 3 (ipykernel)",
   "language": "python",
   "name": "python3"
  },
  "language_info": {
   "codemirror_mode": {
    "name": "ipython",
    "version": 3
   },
   "file_extension": ".py",
   "mimetype": "text/x-python",
   "name": "python",
   "nbconvert_exporter": "python",
   "pygments_lexer": "ipython3",
   "version": "3.10.6"
  }
 },
 "nbformat": 4,
 "nbformat_minor": 5
}
